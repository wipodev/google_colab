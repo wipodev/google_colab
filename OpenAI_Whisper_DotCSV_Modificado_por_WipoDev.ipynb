{
  "cells": [
    {
      "cell_type": "markdown",
      "metadata": {
        "id": "view-in-github",
        "colab_type": "text"
      },
      "source": [
        "<a href=\"https://colab.research.google.com/github/wipodev/google_colab/blob/main/OpenAI_Whisper_DotCSV_Modificado_por_WipoDev.ipynb\" target=\"_parent\"><img src=\"https://colab.research.google.com/assets/colab-badge.svg\" alt=\"Open In Colab\"/></a>"
      ]
    },
    {
      "cell_type": "markdown",
      "metadata": {
        "id": "v5hvo8QWN-a9"
      },
      "source": [
        "#🗣️ **Whisper** - *Notebook creado por [DotCSV](https://www.youtube.com/channel/UCy5znSnfMsDwaLlROnZ7Qbg)*\n",
        "##*modificado por [WipoDev](https://github.com/wipodev)*"
      ]
    },
    {
      "cell_type": "markdown",
      "source": [
        "🚨 Ten activada la **Aceleración por hardware** con GPU en `\"Entorno de ejecución\" > \"Cambiar tipo de entorno de ejecución\"`"
      ],
      "metadata": {
        "id": "f-BcD0b8hwdA"
      }
    },
    {
      "cell_type": "code",
      "source": [
        "#@title ⚙️ Ejecutar esta celda para instalar e importar las librerías.\n",
        "\"\"\"\n",
        "To write this piece of code I took inspiration/code from a lot of places.\n",
        "It was late night, so I'm not sure how much I created or just copied o.O\n",
        "Here are some of the possible references:\n",
        "https://blog.addpipe.com/recording-audio-in-the-browser-using-pure-html5-and-minimal-javascript/\n",
        "https://stackoverflow.com/a/18650249\n",
        "https://hacks.mozilla.org/2014/06/easy-audio-capture-with-the-mediarecorder-api/\n",
        "https://air.ghost.io/recording-to-an-audio-file-using-html5-and-js/\n",
        "https://stackoverflow.com/a/49019356\n",
        "\"\"\"\n",
        "\n",
        "!pip install git+https://github.com/openai/whisper.git\n",
        "!pip install jiwer\n",
        "!pip install ffmpeg-python # cambie el paquete ffmpeg por ffmpeg-python para solucionar error en ffmpeg.input\n",
        "\n",
        "from IPython.display import HTML, Audio\n",
        "from IPython.display import clear_output\n",
        "from google.colab.output import eval_js\n",
        "from base64 import b64decode\n",
        "from scipy.io.wavfile import read as wav_read\n",
        "from scipy.io.wavfile import write\n",
        "import numpy as np\n",
        "import io\n",
        "import os\n",
        "import time\n",
        "import ffmpeg\n",
        "import whisper"
      ],
      "metadata": {
        "cellView": "form",
        "id": "SJl7HJOeo0-P"
      },
      "execution_count": null,
      "outputs": []
    },
    {
      "cell_type": "code",
      "source": [
        "#@title ⚙️ Ejecutar esta celda para cargar el modulo de grabación.\n",
        "AUDIO_HTML = \"\"\"\n",
        "<script>\n",
        "    var my_div = document.createElement(\"DIV\");\n",
        "    var recordButton = document.createElement(\"BUTTON\");\n",
        "\n",
        "    // Establecer estilos en línea para el div\n",
        "    my_div.style.display = \"flex\";\n",
        "    my_div.style.flexDirection = \"column\";\n",
        "    my_div.style.gap = \"10px\";\n",
        "    my_div.style.alignItems = \"center\";\n",
        "    my_div.style.padding = \"10px\";\n",
        "\n",
        "    // Establecer estilos en línea para el botón\n",
        "    recordButton.style.backgroundColor = \"red\";\n",
        "    recordButton.style.color = \"white\";\n",
        "    recordButton.style.margin = \"0 auto\";\n",
        "    recordButton.style.border = \"none\";\n",
        "    recordButton.style.borderRadius = \"5px\";\n",
        "    recordButton.style.padding = \"5px 10px\";\n",
        "    recordButton.style.cursor = \"pointer\";\n",
        "\n",
        "    my_div.appendChild(recordButton);\n",
        "    document.body.appendChild(my_div);\n",
        "\n",
        "    var base64data = 0;\n",
        "    var reader;\n",
        "    var recorder, gumStream;\n",
        "\n",
        "    var handleSuccess = function (stream) {\n",
        "      gumStream = stream;\n",
        "      var options = {\n",
        "        mimeType: 'audio/webm;codecs=opus'\n",
        "      };\n",
        "      recorder = new MediaRecorder(stream);\n",
        "      recorder.ondataavailable = function (e) {\n",
        "        var url = URL.createObjectURL(e.data);\n",
        "        var preview = document.createElement('audio');\n",
        "        preview.controls = true;\n",
        "        preview.src = url;\n",
        "        my_div.appendChild(preview);\n",
        "\n",
        "        reader = new FileReader();\n",
        "        reader.readAsDataURL(e.data);\n",
        "        reader.onloadend = function () {\n",
        "          base64data = reader.result;\n",
        "        }\n",
        "      };\n",
        "      recorder.start();\n",
        "    };\n",
        "\n",
        "    recordButton.innerText = \"Grabando... presione para detener\";\n",
        "\n",
        "    navigator.mediaDevices.getUserMedia({ audio: true }).then(handleSuccess);\n",
        "\n",
        "\n",
        "    function toggleRecording() {\n",
        "      if (recorder && recorder.state == \"recording\") {\n",
        "        recordButton.innerText = \"Guardando la grabación... ¡espera por favor!\"\n",
        "        recordButton.style.backgroundColor = \"yellow\";\n",
        "        recordButton.style.color = \"black\";\n",
        "        recorder.stop();\n",
        "        gumStream.getAudioTracks()[0].stop();\n",
        "      }\n",
        "    }\n",
        "\n",
        "    function sleep(ms) {\n",
        "      return new Promise(resolve => setTimeout(resolve, ms));\n",
        "    }\n",
        "\n",
        "    var data = new Promise(resolve => {\n",
        "      recordButton.onclick = () => {\n",
        "        toggleRecording()\n",
        "\n",
        "        sleep(2000).then(() => {\n",
        "          resolve(base64data.toString())\n",
        "        });\n",
        "      }\n",
        "    });\n",
        "\n",
        "  </script>\n",
        "\"\"\"\n",
        "\n",
        "AUDIO_SAVE = \"\"\"\n",
        "<script>\n",
        "recordButton.innerText = \"Audio guardado con éxito\"\n",
        "recordButton.style.backgroundColor = \"green\";\n",
        "recordButton.style.color = \"white\";\n",
        "</script>\n",
        "\"\"\"\n",
        "\n",
        "def get_audio():\n",
        "  display(HTML(AUDIO_HTML))\n",
        "  data = eval_js(\"data\")\n",
        "  binary = b64decode(data.split(',')[1])\n",
        "\n",
        "  process = (ffmpeg\n",
        "    .input('pipe:0')\n",
        "    .output('pipe:1', format='wav')\n",
        "    .run_async(pipe_stdin=True, pipe_stdout=True, pipe_stderr=True, quiet=True, overwrite_output=True)\n",
        "  )\n",
        "  output, err = process.communicate(input=binary)\n",
        "\n",
        "  riff_chunk_size = len(output) - 8\n",
        "  # Divida el tamaño del fragmento en cuatro bytes, guardados en b.\n",
        "  q = riff_chunk_size\n",
        "  b = []\n",
        "  for i in range(4):\n",
        "      q, r = divmod(q, 256)\n",
        "      b.append(r)\n",
        "\n",
        "  # Reemplace los bytes 4:8 en proc.stdout con el tamaño real del fragmento RIFF.\n",
        "  riff = output[:4] + bytes(b) + output[8:]\n",
        "\n",
        "  sr, audio = wav_read(io.BytesIO(riff))\n",
        "\n",
        "  return audio, sr"
      ],
      "metadata": {
        "cellView": "form",
        "id": "nPyK8JWGWDh5"
      },
      "execution_count": 29,
      "outputs": []
    },
    {
      "cell_type": "code",
      "source": [
        "#@title 🎙️ **Grabar audio**\n",
        "file_name = 'record.wav' # Nombre del archivo WAV\n",
        "\n",
        "audio, sr = get_audio()\n",
        "write(file_name, sr, audio)\n",
        "\n",
        "# Define un tiempo límite para la verificación (ajusta según tus necesidades)\n",
        "time_limit = 60  # segundos\n",
        "\n",
        "# Espera hasta que termine la escritura o se alcance el tiempo límite\n",
        "initial_time = time.time()\n",
        "file_exists = False\n",
        "\n",
        "while time.time() - initial_time < time_limit:\n",
        "    if os.path.exists(file_name):\n",
        "        # El archivo existe, verifica si su tamaño ha dejado de cambiar\n",
        "        previous_size = os.path.getsize(file_name)\n",
        "        time.sleep(1)  # Espera un segundo\n",
        "        current_size = os.path.getsize(file_name)\n",
        "\n",
        "        if current_size == previous_size:\n",
        "            file_exists = True\n",
        "            break\n",
        "\n",
        "if file_exists:\n",
        "  display(HTML(AUDIO_SAVE))"
      ],
      "metadata": {
        "cellView": "form",
        "id": "xrWneAGVX2OY"
      },
      "execution_count": null,
      "outputs": []
    },
    {
      "cell_type": "markdown",
      "metadata": {
        "id": "KXmB1rwVN98P"
      },
      "source": [
        "## 🎙️ **Transcribe o traduce** [Elige la tarea]"
      ]
    },
    {
      "cell_type": "code",
      "source": [
        "Tarea = \"Transcribir\" #@param [\"Transcribir\", \"Traducir al inglés\"]\n",
        "Audio = \"record\" #@param {type:\"string\"}\n",
        "\n",
        "task = \"translate\" if Tarea == \"Traducir al inglés\" else \"transcribe\"\n",
        "output = '/content/'+Audio+'/'+task\n",
        "\n",
        "!whisper {Audio +\".wav\"} --task {task} --model medium --verbose False --output_dir {output}\n",
        "\n",
        "clear_output()\n",
        "if task == \"translate\":\n",
        "  print(\"-- TRADUCCIÓN A INGLÉS --\\n\")\n",
        "else:\n",
        "  print(\"-- TRANSCRIPCIÓN --\\n\")\n",
        "\n",
        "print(open(output+'/record.txt').read())"
      ],
      "metadata": {
        "cellView": "form",
        "id": "kNAwbo0dN98P"
      },
      "execution_count": null,
      "outputs": []
    }
  ],
  "metadata": {
    "accelerator": "GPU",
    "colab": {
      "provenance": [],
      "gpuType": "T4",
      "include_colab_link": true
    },
    "kernelspec": {
      "display_name": "Python 3",
      "name": "python3"
    },
    "language_info": {
      "codemirror_mode": {
        "name": "ipython",
        "version": 3
      },
      "file_extension": ".py",
      "mimetype": "text/x-python",
      "name": "python",
      "nbconvert_exporter": "python",
      "pygments_lexer": "ipython3",
      "version": "3.9.9"
    }
  },
  "nbformat": 4,
  "nbformat_minor": 0
}