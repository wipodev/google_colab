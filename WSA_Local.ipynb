{
  "nbformat": 4,
  "nbformat_minor": 0,
  "metadata": {
    "colab": {
      "provenance": [],
      "authorship_tag": "ABX9TyO6NUgXUAZ+hmhU7IX79RLL",
      "include_colab_link": true
    },
    "kernelspec": {
      "name": "python3",
      "display_name": "Python 3"
    },
    "language_info": {
      "name": "python"
    }
  },
  "cells": [
    {
      "cell_type": "markdown",
      "metadata": {
        "id": "view-in-github",
        "colab_type": "text"
      },
      "source": [
        "<a href=\"https://colab.research.google.com/github/wipodev/google_colab/blob/main/WSA_Local.ipynb\" target=\"_parent\"><img src=\"https://colab.research.google.com/assets/colab-badge.svg\" alt=\"Open In Colab\"/></a>"
      ]
    },
    {
      "cell_type": "code",
      "execution_count": null,
      "metadata": {
        "id": "gzPDWxjTId5m"
      },
      "outputs": [],
      "source": [
        "!git clone https://github.com/wipodev/MagiskOnWSALocal.git --depth 1"
      ]
    },
    {
      "cell_type": "code",
      "source": [
        "%cd MagiskOnWSALocal\n",
        "!./scripts/run.sh"
      ],
      "metadata": {
        "id": "d47y8MTQPqP3"
      },
      "execution_count": null,
      "outputs": []
    }
  ]
}
